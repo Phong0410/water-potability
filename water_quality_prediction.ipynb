{
  "cells": [
    {
      "cell_type": "markdown",
      "metadata": {
        "id": "N1Y1frmmUFSt"
      },
      "source": [
        "# Evironment setup"
      ]
    },
    {
      "cell_type": "code",
      "execution_count": 1,
      "metadata": {
        "colab": {
          "base_uri": "https://localhost:8080/"
        },
        "id": "UwDWOehQjuCD",
        "outputId": "0e638d02-5d69-4cfc-e404-1caa23b50877"
      },
      "outputs": [
        {
          "output_type": "stream",
          "name": "stdout",
          "text": [
            "Collecting findspark\n",
            "  Downloading findspark-1.4.2-py2.py3-none-any.whl (4.2 kB)\n",
            "Installing collected packages: findspark\n",
            "Successfully installed findspark-1.4.2\n",
            "Collecting pyspark\n",
            "  Downloading pyspark-3.2.0.tar.gz (281.3 MB)\n",
            "\u001b[K     |████████████████████████████████| 281.3 MB 34 kB/s \n",
            "\u001b[?25hCollecting py4j==0.10.9.2\n",
            "  Downloading py4j-0.10.9.2-py2.py3-none-any.whl (198 kB)\n",
            "\u001b[K     |████████████████████████████████| 198 kB 60.4 MB/s \n",
            "\u001b[?25hBuilding wheels for collected packages: pyspark\n",
            "  Building wheel for pyspark (setup.py) ... \u001b[?25l\u001b[?25hdone\n",
            "  Created wheel for pyspark: filename=pyspark-3.2.0-py2.py3-none-any.whl size=281805912 sha256=9c4b130d3effd26745c1c8971f16000062088de2a4360256ade53475aafb235a\n",
            "  Stored in directory: /root/.cache/pip/wheels/0b/de/d2/9be5d59d7331c6c2a7c1b6d1a4f463ce107332b1ecd4e80718\n",
            "Successfully built pyspark\n",
            "Installing collected packages: py4j, pyspark\n",
            "Successfully installed py4j-0.10.9.2 pyspark-3.2.0\n"
          ]
        }
      ],
      "source": [
        "# innstall java\n",
        "!apt-get install openjdk-8-jdk-headless -qq > /dev/null\n",
        "\n",
        "# install spark (change the version number if needed)\n",
        "!wget -q https://archive.apache.org/dist/spark/spark-3.0.0/spark-3.0.0-bin-hadoop3.2.tgz\n",
        "\n",
        "# unzip the spark file to the current folder\n",
        "!tar xf spark-3.0.0-bin-hadoop3.2.tgz\n",
        "\n",
        "# set your spark folder to your system path environment. \n",
        "import os\n",
        "os.environ[\"JAVA_HOME\"] = \"/usr/lib/jvm/java-8-openjdk-amd64\"\n",
        "os.environ[\"SPARK_HOME\"] = \"/content/spark-3.0.0-bin-hadoop3.2\"\n",
        "\n",
        "# install findspark using pip\n",
        "!pip install findspark\n",
        "!pip install pyspark\n",
        "\n",
        "import findspark\n",
        "findspark.init()\n",
        "from pyspark.sql import SparkSession\n",
        "spark = SparkSession.builder.master(\"local[*]\").getOrCreate()"
      ]
    },
    {
      "cell_type": "markdown",
      "metadata": {
        "id": "qHiiKgSbtHOW"
      },
      "source": [
        "Import libraries"
      ]
    },
    {
      "cell_type": "code",
      "execution_count": 2,
      "metadata": {
        "id": "5wbCQddAtYPW"
      },
      "outputs": [],
      "source": [
        "# import necessary libraries\n",
        "import numpy as np\n",
        "import pandas as pd\n",
        "\n",
        "import matplotlib.pyplot as plt\n",
        "\n",
        "import pyspark.sql.functions as func\n",
        "\n",
        "from google.colab import files"
      ]
    },
    {
      "cell_type": "markdown",
      "metadata": {
        "id": "7lTh__1wT_gn"
      },
      "source": [
        "# Data inspecting"
      ]
    },
    {
      "cell_type": "code",
      "execution_count": 3,
      "metadata": {
        "colab": {
          "base_uri": "https://localhost:8080/",
          "height": 72,
          "resources": {
            "http://localhost:8080/nbextensions/google.colab/files.js": {
              "data": "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",
              "headers": [
                [
                  "content-type",
                  "application/javascript"
                ]
              ],
              "ok": true,
              "status": 200,
              "status_text": ""
            }
          }
        },
        "id": "cJVJl8sbCSCs",
        "outputId": "4f783773-b129-455d-efa5-c9fd744452a5"
      },
      "outputs": [
        {
          "output_type": "display_data",
          "data": {
            "text/html": [
              "\n",
              "     <input type=\"file\" id=\"files-26299382-e8c8-4556-b1ec-aba956bcf3ba\" name=\"files[]\" multiple disabled\n",
              "        style=\"border:none\" />\n",
              "     <output id=\"result-26299382-e8c8-4556-b1ec-aba956bcf3ba\">\n",
              "      Upload widget is only available when the cell has been executed in the\n",
              "      current browser session. Please rerun this cell to enable.\n",
              "      </output>\n",
              "      <script src=\"/nbextensions/google.colab/files.js\"></script> "
            ],
            "text/plain": [
              "<IPython.core.display.HTML object>"
            ]
          },
          "metadata": {}
        },
        {
          "output_type": "stream",
          "name": "stdout",
          "text": [
            "Saving water_potability.csv to water_potability.csv\n"
          ]
        }
      ],
      "source": [
        "# upload csv file to Google Colab\n",
        "uploaded = files.upload()"
      ]
    },
    {
      "cell_type": "code",
      "execution_count": 4,
      "metadata": {
        "colab": {
          "base_uri": "https://localhost:8080/"
        },
        "id": "iSdk0o3KkAjg",
        "outputId": "65903554-085a-47ed-d067-1d0030845928"
      },
      "outputs": [
        {
          "output_type": "stream",
          "name": "stdout",
          "text": [
            "3276\n",
            "root\n",
            " |-- ph: double (nullable = true)\n",
            " |-- Hardness: double (nullable = true)\n",
            " |-- Solids: double (nullable = true)\n",
            " |-- Chloramines: double (nullable = true)\n",
            " |-- Sulfate: double (nullable = true)\n",
            " |-- Conductivity: double (nullable = true)\n",
            " |-- Organic_carbon: double (nullable = true)\n",
            " |-- Trihalomethanes: double (nullable = true)\n",
            " |-- Turbidity: double (nullable = true)\n",
            " |-- Potability: integer (nullable = true)\n",
            "\n"
          ]
        }
      ],
      "source": [
        "# read csv file to dataset\n",
        "dataset = spark.read.csv('water_potability.csv',inferSchema=True, header =True).cache()\n",
        "\n",
        "# count number of row and print the schema\n",
        "print(dataset.count())\n",
        "dataset.printSchema()"
      ]
    },
    {
      "cell_type": "code",
      "execution_count": 5,
      "metadata": {
        "colab": {
          "base_uri": "https://localhost:8080/"
        },
        "id": "-sB0HBcu4eN_",
        "outputId": "ac94cb01-4eae-46ba-c3a4-2f6357ea08a5"
      },
      "outputs": [
        {
          "output_type": "stream",
          "name": "stdout",
          "text": [
            "+------------------+------------------+------------------+------------------+------------------+------------------+------------------+------------------+------------------+----------+\n",
            "|                ph|          Hardness|            Solids|       Chloramines|           Sulfate|      Conductivity|    Organic_carbon|   Trihalomethanes|         Turbidity|Potability|\n",
            "+------------------+------------------+------------------+------------------+------------------+------------------+------------------+------------------+------------------+----------+\n",
            "|              null| 204.8904554713363|20791.318980747026| 7.300211873184757|368.51644134980336| 564.3086541722439|  10.3797830780847|  86.9909704615088|2.9631353806316407|         0|\n",
            "|  3.71608007538699|129.42292051494425|18630.057857970347|    6.635245883862|              null| 592.8853591348523|15.180013116357259| 56.32907628451764| 4.500656274942408|         0|\n",
            "| 8.099124189298397|224.23625939355776|19909.541732292393| 9.275883602694089|              null| 418.6062130644815|16.868636929550973| 66.42009251176368|3.0559337496641685|         0|\n",
            "| 8.316765884214679|214.37339408562252|22018.417440775294|  8.05933237743854|356.88613564305666| 363.2665161642437|18.436524495493302|100.34167436508008| 4.628770536837084|         0|\n",
            "| 9.092223456290965|181.10150923612525| 17978.98633892625| 6.546599974207941|310.13573752420444|398.41081338184466|11.558279443446395|31.997992727424737| 4.075075425430034|         0|\n",
            "| 5.584086638456089| 188.3133237696164| 28748.68773904612|  7.54486878877965| 326.6783629116736| 280.4679159334877| 8.399734640152758|54.917861841994466|2.5597082275565217|         0|\n",
            "|10.223862164528773|248.07173527013992|28749.716543528233|7.5134084658313025|393.66339551509645| 283.6516335078445|13.789695317519886| 84.60355617402357| 2.672988736934779|         0|\n",
            "| 8.635848718500734|203.36152258457054|13672.091763901635| 4.563008685599703| 303.3097711592812|474.60764494244853| 12.36381669870525|62.798308962925155| 4.401424715445482|         0|\n",
            "|              null|118.98857909025189|14285.583854224515| 7.804173553073094|  268.646940746221| 389.3755658712614| 12.70604896865791|53.928845767512236|3.5950171809576155|         0|\n",
            "|11.180284470721592|227.23146923797458| 25484.50849098786| 9.077200016914393|404.04163468408996| 563.8854814810949| 17.92780641128502| 71.97660103221915| 4.370561936655497|         0|\n",
            "+------------------+------------------+------------------+------------------+------------------+------------------+------------------+------------------+------------------+----------+\n",
            "only showing top 10 rows\n",
            "\n"
          ]
        }
      ],
      "source": [
        "# show top 10 row of dataset\n",
        "dataset.show(10)"
      ]
    },
    {
      "cell_type": "code",
      "execution_count": 6,
      "metadata": {
        "id": "cBosCegyPKLH"
      },
      "outputs": [],
      "source": [
        "# function to return min, max, average values\n",
        "def min_max_avg(datset, col, opt):\n",
        "    return dataset.agg({col: opt}).select(opt + \"(\" + col + \")\").collect()[0][0]\n",
        "\n",
        "# function to print min, max, average values\n",
        "def print_min_max_avg(dataset, col):\n",
        "    print(col + \":\")\n",
        "    print(\" min =\", min_max_avg(dataset, col, \"min\"))\n",
        "    print(\" max =\", min_max_avg(dataset, col, \"max\"))\n",
        "    print(\" avg =\", min_max_avg(dataset, col, \"avg\"))\n",
        "    print(\" med =\", dataset.approxQuantile([col], [0.5], 0)[0][0])"
      ]
    },
    {
      "cell_type": "code",
      "execution_count": 7,
      "metadata": {
        "colab": {
          "base_uri": "https://localhost:8080/"
        },
        "id": "bJNnGYj3R76u",
        "outputId": "d6968aba-7f33-435a-b064-2917fb4c80f5"
      },
      "outputs": [
        {
          "output_type": "stream",
          "name": "stdout",
          "text": [
            "ph:\n",
            " min = 0.0\n",
            " max = 13.999999999999998\n",
            " avg = 7.080794504276819\n",
            " med = 7.036752103833548\n",
            "Hardness:\n",
            " min = 47.432\n",
            " max = 323.124\n",
            " avg = 196.36949601730177\n",
            " med = 196.95287516726086\n",
            "Solids:\n",
            " min = 320.942611274359\n",
            " max = 61227.19600771213\n",
            " avg = 22014.09252607711\n",
            " med = 20922.154463374245\n",
            "Chloramines:\n",
            " min = 0.3520000000000003\n",
            " max = 13.127000000000002\n",
            " avg = 7.122276793425787\n",
            " med = 7.130161148170633\n",
            "Sulfate:\n",
            " min = 129.00000000000003\n",
            " max = 481.03064230599716\n",
            " avg = 333.7757766108134\n",
            " med = 333.073545745888\n",
            "Conductivity:\n",
            " min = 181.483753985146\n",
            " max = 753.3426195583046\n",
            " avg = 426.2051106825521\n",
            " med = 421.87985373320026\n",
            "Organic_carbon:\n",
            " min = 2.1999999999999886\n",
            " max = 28.30000000000001\n",
            " avg = 14.284970247677341\n",
            " med = 14.217372572687509\n",
            "Trihalomethanes:\n",
            " min = 0.7379999999999995\n",
            " max = 124.0\n",
            " avg = 66.39629294676803\n",
            " med = 66.6210265451665\n",
            "Turbidity:\n",
            " min = 1.45\n",
            " max = 6.739\n",
            " avg = 3.9667861697910576\n",
            " med = 3.9549642917273493\n"
          ]
        }
      ],
      "source": [
        "print_min_max_avg(dataset, \"ph\")\n",
        "print_min_max_avg(dataset, \"Hardness\")\n",
        "print_min_max_avg(dataset, \"Solids\")\n",
        "print_min_max_avg(dataset, \"Chloramines\")\n",
        "print_min_max_avg(dataset, \"Sulfate\")\n",
        "print_min_max_avg(dataset, \"Conductivity\")\n",
        "print_min_max_avg(dataset, \"Organic_carbon\")\n",
        "print_min_max_avg(dataset, \"Trihalomethanes\")\n",
        "print_min_max_avg(dataset, \"Turbidity\")\n"
      ]
    },
    {
      "cell_type": "code",
      "execution_count": 8,
      "metadata": {
        "colab": {
          "base_uri": "https://localhost:8080/"
        },
        "id": "6W-GJ_Sz9alf",
        "outputId": "ef69fe1f-0f90-46d8-8592-723670dcae7a"
      },
      "outputs": [
        {
          "output_type": "stream",
          "name": "stdout",
          "text": [
            "Count null values:\n",
            "ph: 491\n",
            "Hardness: 0\n",
            "Solids: 0\n",
            "Chloramines: 0\n",
            "Sulfate: 781\n",
            "Conductivity: 0\n",
            "Organic_carbon: 0\n",
            "Trihalomethanes: 162\n",
            "Turbidity: 0\n"
          ]
        }
      ],
      "source": [
        "# check for null values\n",
        "print(\"Count null values:\")\n",
        "print(\"ph:\", dataset.filter('ph IS NULL').rdd.map(lambda x : x[0]).count())\n",
        "print(\"Hardness:\", dataset.filter('Hardness IS NULL').rdd.map(lambda x : x[1]).count())\n",
        "print(\"Solids:\", dataset.filter('Solids IS NULL').rdd.map(lambda x : x[2]).count())\n",
        "print(\"Chloramines:\", dataset.filter('Chloramines IS NULL').rdd.map(lambda x : x[3]).count())\n",
        "print(\"Sulfate:\", dataset.filter('Sulfate IS NULL').rdd.map(lambda x : x[4]).count())\n",
        "print(\"Conductivity:\", dataset.filter('Conductivity IS NULL').rdd.map(lambda x : x[5]).count())\n",
        "print(\"Organic_carbon:\", dataset.filter('Organic_carbon IS NULL').rdd.map(lambda x : x[6]).count())\n",
        "print(\"Trihalomethanes:\", dataset.filter('Trihalomethanes IS NULL').rdd.map(lambda x : x[7]).count())\n",
        "print(\"Turbidity:\", dataset.filter('Turbidity IS NULL').rdd.map(lambda x : x[8]).count())"
      ]
    },
    {
      "cell_type": "markdown",
      "metadata": {
        "id": "Ksc7JTaoUJl8"
      },
      "source": [
        "# Data preprocessing"
      ]
    },
    {
      "cell_type": "markdown",
      "metadata": {
        "id": "dgFl04p3BB2O"
      },
      "source": [
        "Processing null values"
      ]
    },
    {
      "cell_type": "code",
      "execution_count": 9,
      "metadata": {
        "id": "i9Oz3hQ2b_pv"
      },
      "outputs": [],
      "source": [
        "# replace null values with average values\n",
        "dataset = dataset.fillna(min_max_avg(dataset, \"ph\", \"avg\"), \"ph\")\n",
        "dataset = dataset.fillna(min_max_avg(dataset, \"Sulfate\", \"avg\"), \"Sulfate\")\n",
        "dataset = dataset.fillna(min_max_avg(dataset, \"Trihalomethanes\", \"avg\"), \"Trihalomethanes\")"
      ]
    },
    {
      "cell_type": "code",
      "execution_count": 10,
      "metadata": {
        "id": "7oJ3NvKQBHsx"
      },
      "outputs": [],
      "source": [
        "# normalize data using min-max normalization\n",
        "dataset = dataset.withColumn('ph', (dataset.ph - min_max_avg(dataset, \"ph\", \"min\")) / (min_max_avg(dataset, \"ph\", \"max\") - min_max_avg(dataset, \"ph\", \"min\")))\n",
        "dataset = dataset.withColumn('Hardness', (dataset.Hardness - min_max_avg(dataset, \"Hardness\", \"min\")) / (min_max_avg(dataset, \"Hardness\", \"max\") - min_max_avg(dataset, \"Hardness\", \"min\")))\n",
        "dataset = dataset.withColumn('Solids', (dataset.Solids - min_max_avg(dataset, \"Solids\", \"min\")) / (min_max_avg(dataset, \"Solids\", \"max\") - min_max_avg(dataset, \"Solids\", \"min\")))\n",
        "dataset = dataset.withColumn('Chloramines', (dataset.Chloramines - min_max_avg(dataset, \"Chloramines\", \"min\")) / (min_max_avg(dataset, \"Chloramines\", \"max\") - min_max_avg(dataset, \"Chloramines\", \"min\")))\n",
        "dataset = dataset.withColumn('Sulfate', (dataset.Sulfate - min_max_avg(dataset, \"Sulfate\", \"min\")) / (min_max_avg(dataset, \"Sulfate\", \"max\") - min_max_avg(dataset, \"Sulfate\", \"min\")))\n",
        "dataset = dataset.withColumn('Conductivity', (dataset.Conductivity - min_max_avg(dataset, \"Conductivity\", \"min\")) / (min_max_avg(dataset, \"Conductivity\", \"max\") - min_max_avg(dataset, \"Conductivity\", \"min\")))\n",
        "dataset = dataset.withColumn('Organic_carbon', (dataset.Organic_carbon - min_max_avg(dataset, \"Organic_carbon\", \"min\")) / (min_max_avg(dataset, \"Organic_carbon\", \"max\") - min_max_avg(dataset, \"Organic_carbon\", \"min\")))\n",
        "dataset = dataset.withColumn('Trihalomethanes', (dataset.Trihalomethanes - min_max_avg(dataset, \"Trihalomethanes\", \"min\")) / (min_max_avg(dataset, \"Trihalomethanes\", \"max\") - min_max_avg(dataset, \"Trihalomethanes\", \"min\")))\n",
        "dataset = dataset.withColumn('Turbidity', (dataset.Turbidity - min_max_avg(dataset, \"Turbidity\", \"min\")) / (min_max_avg(dataset, \"Turbidity\", \"max\") - min_max_avg(dataset, \"Turbidity\", \"min\")))\n"
      ]
    },
    {
      "cell_type": "code",
      "execution_count": 11,
      "metadata": {
        "colab": {
          "base_uri": "https://localhost:8080/"
        },
        "id": "FeRMBxCWfata",
        "outputId": "9e5ceb97-5659-46f9-c281-0b8e7211ede0"
      },
      "outputs": [
        {
          "output_type": "stream",
          "name": "stdout",
          "text": [
            "+-------------------+-------------------+-------------------+-------------------+-------------------+-------------------+-------------------+-------------------+-------------------+----------+\n",
            "|                 ph|           Hardness|             Solids|        Chloramines|            Sulfate|       Conductivity|     Organic_carbon|    Trihalomethanes|          Turbidity|Potability|\n",
            "+-------------------+-------------------+-------------------+-------------------+-------------------+-------------------+-------------------+-------------------+-------------------+----------+\n",
            "| 0.5057710360197728| 0.5711390082822001| 0.3360964634654398| 0.5438913403667128| 0.6803852067559715| 0.6694394775245863| 0.3134016505013296| 0.6997531312286739| 0.2860910154342297|         0|\n",
            "|0.26543429109907074| 0.2974004342343784| 0.3006114187901571|0.49183920813009774| 0.5816987273307169| 0.7194110818538585|0.49731851020525897|0.45099930460740245| 0.5767926403748171|         0|\n",
            "| 0.5785088706641713| 0.6413108084150346|0.32161884911088146| 0.6985427477647035| 0.5816987273307169| 0.4146520642670707| 0.5620167405958227| 0.5328657048544051|0.30363655694160874|         0|\n",
            "| 0.5940547060153343| 0.6055358664220307|0.35624379467691825| 0.6033136890362848| 0.6473474415473474| 0.3178804651334762| 0.6220890611300115| 0.8080647268832251| 0.6010154163049886|         0|\n",
            "| 0.6494445325922118| 0.4848508815494292|0.28992168690324754|0.48490019367576825| 0.5145453712144609|0.37933670780687917|0.35855476794813784|0.25360608076637353|0.49632736347703427|         0|\n",
            "| 0.3988633313182921| 0.5110098362288946|0.46674591757821726| 0.5630425666363716| 0.5615373753170179| 0.1730919426231725|0.23753772567635112| 0.4395504035468714| 0.2098143746561773|         0|\n",
            "| 0.7302758688949125| 0.7277677091469462|0.46676280918498575|   0.56057991904746| 0.7518191989805305|0.17865925610910732|0.44404962902375045| 0.6803845156984599| 0.2312325084013574|         0|\n",
            "| 0.6168463370357667| 0.5655932075815422| 0.2192081832012367|0.32962885992952656| 0.4951551092753031| 0.5125808282494885| 0.3894182643182089| 0.5034828979160256| 0.5580307648790853|         0|\n",
            "| 0.5057710360197728|  0.259552613388317|0.22928091064893685|  0.583340395543882|0.39668973084688186|0.36353692213506406|0.40253061182597366|0.43152671356551275| 0.4055619551820033|         0|\n",
            "| 0.7985917479086853| 0.6521751419626778| 0.4131524182898639| 0.6829902165882107| 0.7813002665972874| 0.6686994825422143| 0.6025979467925293| 0.5779445492708146| 0.5521954881178855|         0|\n",
            "| 0.5257600075598756| 0.4283359591846286| 0.5275594870156438| 0.5634990925013004| 0.5613839527180129| 0.4265032514024021| 0.5129046144840278| 0.6328147820439778| 0.4182816757142101|         0|\n",
            "| 0.5696086892088479| 0.6212051872693675| 0.3028706092044403| 0.6073099413795595| 0.5816987273307169|0.31933486996633886|0.47225079301123407| 0.6145276823323617|  0.484348290478311|         0|\n",
            "| 0.5085588845903252|0.39635895615539135|0.30226569548185495|0.25471906774995845| 0.4355985872976041| 0.2906858375102547| 0.5260358585756972| 0.6389866977411888|0.37734093842350147|         0|\n",
            "| 0.5057710360197728| 0.3726728501194674| 0.4434753058087982|  0.507727864633073| 0.4840936011437526|0.34672555201517724| 0.6578853326142575| 0.6147230738423707| 0.5604035135138783|         0|\n",
            "|  0.535445157712383| 0.5727876839305642|0.46082398292954546| 0.3695152856235327| 0.5816987273307169| 0.4601862700577368| 0.4225406551427022| 0.5643443449475456| 0.6291136958263146|         0|\n",
            "| 0.4533765543242369| 0.5052771957857903| 0.6689673043597196|  0.726230628295936| 0.6689408788512972| 0.5862627093705883| 0.3578460226643457| 0.6030537983047312| 0.5532895236702398|         0|\n",
            "|  0.503698985715489|   0.59347897675865| 0.5033909732708611| 0.7626454803648864| 0.5816987273307169|0.23372465009385635| 0.6972039019433891| 0.4536159058736132|  0.532885017490298|         0|\n",
            "| 0.6558257147965383| 0.8211402821257089| 0.3894572781285912| 0.5129541860250564| 0.7651337254560616| 0.5184686392504682| 0.4286337463687948| 0.5737320683824016| 0.5773607101870148|         0|\n",
            "|  0.641104596252426| 0.8412473585381235|0.31424450614913646|0.45810730793678844| 0.5816987273307169| 0.4371012693047516| 0.4095309982491951| 0.5117817096644868| 0.1864408376451642|         0|\n",
            "| 0.5265035930306808| 0.6059828013041966| 0.4155464507229997|0.31942616754380604| 0.5873194368584174| 0.5043740944804685|0.39498712415703824| 0.5034745270453284|0.20992610089145675|         0|\n",
            "+-------------------+-------------------+-------------------+-------------------+-------------------+-------------------+-------------------+-------------------+-------------------+----------+\n",
            "only showing top 20 rows\n",
            "\n"
          ]
        }
      ],
      "source": [
        "dataset.show()"
      ]
    },
    {
      "cell_type": "code",
      "execution_count": 12,
      "metadata": {
        "colab": {
          "base_uri": "https://localhost:8080/"
        },
        "id": "_k_qD5mPk7IA",
        "outputId": "c244e0a4-b02c-4c55-8eb1-ada77ebce98e"
      },
      "outputs": [
        {
          "output_type": "stream",
          "name": "stdout",
          "text": [
            "3276\n",
            "3276\n"
          ]
        }
      ],
      "source": [
        "# count the dataset and drop duplicates\n",
        "print(dataset.count())\n",
        "print(dataset.dropDuplicates().count())"
      ]
    },
    {
      "cell_type": "code",
      "execution_count": 13,
      "metadata": {
        "id": "Db00XZi8lvuB"
      },
      "outputs": [],
      "source": [
        "# save the processed dataset\n",
        "dataset.write.csv(\"processed-water-potability.csv\", header = True)"
      ]
    },
    {
      "cell_type": "markdown",
      "metadata": {
        "id": "09OoKQjftrIo"
      },
      "source": [
        "# Data visualization"
      ]
    },
    {
      "cell_type": "code",
      "execution_count": 14,
      "metadata": {
        "id": "ebw2gg6xmDp9"
      },
      "outputs": [],
      "source": [
        "dataset = spark.read.csv(\"processed-water-potability.csv\", inferSchema=True, header =True).cache()"
      ]
    },
    {
      "cell_type": "code",
      "execution_count": 15,
      "metadata": {
        "id": "tZFLXBUqecxF"
      },
      "outputs": [],
      "source": [
        "from pyspark.sql.functions import rand\n",
        "\n",
        "sample = dataset.orderBy(rand()).sample(fraction=0.5, seed=41)"
      ]
    },
    {
      "cell_type": "code",
      "execution_count": 16,
      "metadata": {
        "colab": {
          "base_uri": "https://localhost:8080/",
          "height": 0
        },
        "id": "2TfSVNBgLtae",
        "outputId": "d1b26e41-32e4-459b-a1db-a34455745325"
      },
      "outputs": [
        {
          "output_type": "execute_result",
          "data": {
            "text/plain": [
              "<matplotlib.axes._subplots.AxesSubplot at 0x7f2e903187d0>"
            ]
          },
          "metadata": {},
          "execution_count": 16
        },
        {
          "output_type": "display_data",
          "data": {
            "image/png": "[encoded data removed]",
            "text/plain": [
              "<Figure size 432x288 with 1 Axes>"
            ]
          },
          "metadata": {
            "needs_background": "light"
          }
        }
      ],
      "source": [
        "sample.toPandas().plot(y=\"ph\", kind=\"hist\")"
      ]
    },
    {
      "cell_type": "code",
      "execution_count": 17,
      "metadata": {
        "colab": {
          "base_uri": "https://localhost:8080/",
          "height": 0
        },
        "id": "8592Wx1NNNmq",
        "outputId": "95bdf237-091e-40ad-94f7-05b5f0b38434"
      },
      "outputs": [
        {
          "output_type": "execute_result",
          "data": {
            "text/plain": [
              "<matplotlib.axes._subplots.AxesSubplot at 0x7f2e902897d0>"
            ]
          },
          "metadata": {},
          "execution_count": 17
        },
        {
          "output_type": "display_data",
          "data": {
            "image/png": "[encoded data removed]",
            "text/plain": [
              "<Figure size 432x288 with 1 Axes>"
            ]
          },
          "metadata": {
            "needs_background": "light"
          }
        }
      ],
      "source": [
        "sample.toPandas().plot(y=\"Hardness\", kind=\"hist\")"
      ]
    },
    {
      "cell_type": "code",
      "execution_count": 18,
      "metadata": {
        "colab": {
          "base_uri": "https://localhost:8080/",
          "height": 0
        },
        "id": "L36BvJ-wO54I",
        "outputId": "947bb71f-6e08-4da7-c9d8-d64890718135"
      },
      "outputs": [
        {
          "output_type": "execute_result",
          "data": {
            "text/plain": [
              "<matplotlib.axes._subplots.AxesSubplot at 0x7f2e90d9a390>"
            ]
          },
          "metadata": {},
          "execution_count": 18
        },
        {
          "output_type": "display_data",
          "data": {
            "image/png": "[encoded data removed]",
            "text/plain": [
              "<Figure size 432x288 with 1 Axes>"
            ]
          },
          "metadata": {
            "needs_background": "light"
          }
        }
      ],
      "source": [
        "sample.toPandas().plot(y=\"Solids\", kind=\"hist\")"
      ]
    },
    {
      "cell_type": "code",
      "execution_count": null,
      "metadata": {
        "id": "upXaBo2VPC_t"
      },
      "outputs": [],
      "source": [
        "sample.toPandas().plot(y=\"Chloramines\", kind=\"hist\")"
      ]
    },
    {
      "cell_type": "code",
      "execution_count": null,
      "metadata": {
        "id": "VG6fuzSvPHt9"
      },
      "outputs": [],
      "source": [
        "sample.toPandas().plot(y=\"Sulfate\", kind=\"hist\")"
      ]
    },
    {
      "cell_type": "code",
      "execution_count": null,
      "metadata": {
        "id": "LBKhQ6tAPK3J"
      },
      "outputs": [],
      "source": [
        "sample.toPandas().plot(y=\"Conductivity\", kind=\"hist\")"
      ]
    },
    {
      "cell_type": "code",
      "execution_count": null,
      "metadata": {
        "id": "yIlyR2AGPPiE"
      },
      "outputs": [],
      "source": [
        "sample.toPandas().plot(y=\"Organic_carbon\", kind=\"hist\")"
      ]
    },
    {
      "cell_type": "code",
      "execution_count": null,
      "metadata": {
        "id": "h4Cq5D5xPUQu"
      },
      "outputs": [],
      "source": [
        "sample.toPandas().plot(y=\"Trihalomethanes\", kind=\"hist\")"
      ]
    },
    {
      "cell_type": "code",
      "execution_count": null,
      "metadata": {
        "id": "KFf71yl_PX0b"
      },
      "outputs": [],
      "source": [
        "sample.toPandas().plot(y=\"Turbidity\", kind=\"hist\")"
      ]
    },
    {
      "cell_type": "code",
      "execution_count": null,
      "metadata": {
        "id": "su8RDlEBPbNQ"
      },
      "outputs": [],
      "source": [
        "sample.toPandas().plot(y=\"Potability\", kind=\"hist\")"
      ]
    },
    {
      "cell_type": "code",
      "execution_count": null,
      "metadata": {
        "id": "gLY-bxyiIakt"
      },
      "outputs": [],
      "source": [
        "sample.toPandas().plot(x=\"ph\", y=\"Solids\", c=\"Potability\", s = 10, edgecolor='k', kind=\"scatter\")"
      ]
    },
    {
      "cell_type": "markdown",
      "metadata": {
        "id": "cljQIe72teFi"
      },
      "source": [
        "# Decision Tree"
      ]
    },
    {
      "cell_type": "code",
      "execution_count": null,
      "metadata": {
        "id": "hAf3AXXg4edQ"
      },
      "outputs": [],
      "source": [
        "from array import array\n",
        "\n",
        "class StaticVal:\n",
        "    class_values = 0\n",
        "    dataset = list()\n",
        "\n",
        "\n",
        "def test_split(index, value, dataset):\n",
        "\n",
        "    left, right = list(), list()\n",
        "    for row in dataset:\n",
        "        if row[index] < value:\n",
        "            left.append(row)\n",
        "        else:\n",
        "            right.append(row)\n",
        "    return left, right\n",
        "\n",
        "\n",
        "def gini_index(groups, classes):\n",
        "\n",
        "    n_instances = float(sum([len(group) for group in groups]))\n",
        "    gini = 0.0\n",
        "\n",
        "    for group in groups:\n",
        "        size = float(len(group))\n",
        "        if size == 0:\n",
        "            continue\n",
        "        score = 0.0\n",
        "        for class_val in classes:\n",
        "            p = [row[-1] for row in group].count(class_val) / size\n",
        "            score += p**2\n",
        "        \n",
        "        gini += (1.0 - score) * (size / n_instances)\n",
        "    return gini\n",
        "\n",
        "\n",
        "def calc_row_gini(fields):\n",
        "\n",
        "    b_index, b_value, b_score, b_groups = 999, 999, 999, None\n",
        "    \n",
        "    for index in range(len(fields) - 1):\n",
        "        groups = test_split(index, fields[index], StaticVal.dataset)\n",
        "        gini = gini_index(groups, StaticVal.class_values)\n",
        "        if gini < b_score:\n",
        "            b_index, b_value, b_score, b_groups = index, fields[index], gini, groups\n",
        "    return [b_index, b_value, b_score, b_groups]\n",
        "\n",
        "\n",
        "def get_min(x, y):\n",
        "\n",
        "    b_index, b_value, b_score, b_groups = x[0], x[1], x[2], x[3]\n",
        "    if x[2] > y[2]:\n",
        "        b_index, b_value, b_score, b_groups = y[0], y[1], y[2], y[3]\n",
        "    return b_index, b_value, b_score, b_groups\n",
        "\n",
        "\n",
        "def get_split(dataset):\n",
        "\n",
        "    StaticVal.class_values = list(set(row[-1] for row in dataset))\n",
        "    StaticVal.dataset = dataset\n",
        "    b_index, b_value, b_score, b_groups = 999, 999, 999, None\n",
        "    dataRDD = spark.sparkContext.parallelize(dataset)\n",
        "\n",
        "    giniRDD = dataRDD.map(lambda x : calc_row_gini(x))\n",
        "    b_index, b_value, b_score, b_groups = giniRDD.reduce(lambda x, y : get_min(x, y))\n",
        "\n",
        "    return {\"index\":b_index, \"value\":b_value, \"groups\":b_groups}\n",
        "\n",
        "\n",
        "def split(node, max_depth, min_size, depth):\n",
        "\n",
        "    left, right = node[\"groups\"]\n",
        "    del(node[\"groups\"])\n",
        "\n",
        "    if not left or not right:\n",
        "        node[\"left\"] = node[\"right\"] = to_terminal(left + right)\n",
        "        return\n",
        "\n",
        "    if depth >= max_depth:\n",
        "        node[\"left\"], node[\"right\"] = to_terminal(left), to_terminal(right)\n",
        "        return\n",
        "\n",
        "    if len(left) <=min_size:\n",
        "        node[\"left\"] = to_terminal(left)\n",
        "    else:\n",
        "        node[\"left\"] = get_split(left)\n",
        "        split(node[\"left\"], max_depth, min_size, depth+1)\n",
        "\n",
        "    if len(right) <= min_size:\n",
        "        node[\"right\"] = to_terminal(right)\n",
        "    else:\n",
        "        node[\"right\"] = get_split(right)\n",
        "        split(node[\"right\"], max_depth, min_size, depth+1)\n",
        "\n",
        "\n",
        "def to_terminal(group):\n",
        "\n",
        "    outcomes = [row[-1] for row in group]\n",
        "    return max(set(outcomes), key=outcomes.count)\n",
        "\n",
        "def build_tree(train, max_depth, min_size):\n",
        "\troot = get_split(train)\n",
        "\tsplit(root, max_depth, min_size, 1)\n",
        "\treturn root\n",
        "\n",
        "\n",
        "def print_tree(node, depth = 0):\n",
        "\n",
        "    if isinstance(node, dict):\n",
        "        print('%s[X%d < %.3f]' % ((depth*\" \", (node[\"index\"] + 1), node[\"value\"])))\n",
        "        print_tree(node[\"left\"], depth + 1)\n",
        "        print_tree(node[\"right\"], depth + 1)\n",
        "    else:\n",
        "        print(\"%s[%s]\" % ((depth*\" \", node)))\n",
        "\n",
        "\n",
        "def predict(node, row):\n",
        "    if row[node[\"index\"]] <= node[\"value\"]:\n",
        "        if isinstance(node[\"left\"], dict):\n",
        "            return predict(node[\"left\"], row)\n",
        "        else:\n",
        "            return node[\"left\"]\n",
        "    else:\n",
        "        if isinstance(node[\"right\"], dict):\n",
        "            return predict(node[\"right\"], row)\n",
        "        else:\n",
        "            return node[\"right\"]"
      ]
    },
    {
      "cell_type": "code",
      "execution_count": null,
      "metadata": {
        "id": "aWD0qH68TTzB"
      },
      "outputs": [],
      "source": [
        "train, test = dataset.randomSplit(weights=[0.8,0.2], seed=41)\n",
        "tree = build_tree(train.toPandas().values.tolist(), 3, 3)\n",
        "print_tree(tree)\n",
        "DT_predicted = test.rdd.map(lambda x : (predict(tree, x[:-1]), x[-1]))\n",
        "DT_predicted = DT_predicted.toDF([\"predict\", \"label\"])\n",
        "DT_predicted.filter(\"predict = label\").count()/DT_predicted.count()"
      ]
    },
    {
      "cell_type": "markdown",
      "metadata": {
        "id": "1n2gkjLnhBat"
      },
      "source": [
        "# K-Nearest Neighbors"
      ]
    },
    {
      "cell_type": "code",
      "execution_count": null,
      "metadata": {
        "id": "XbVt8kk1JrOg"
      },
      "outputs": [],
      "source": [
        "from scipy.spatial import distance\n",
        "from pyspark.sql.functions import monotonically_increasing_id, row_number\n",
        "from pyspark.sql.window import Window\n",
        "from pyspark.sql.functions import col, asc, desc\n",
        "from pyspark.sql.types import StructType, StructField,  DoubleType\n",
        "\n",
        "class K_Nearest_Neighbors_Classifier():\n",
        "    def __init__(self, k = 3):\n",
        "        self.k = k\n",
        "\n",
        "    def fit(self, train):\n",
        "        self.train = train\n",
        "\n",
        "    def predict(self, test):\n",
        "        result = list()\n",
        "\n",
        "        for row in test.rdd.toLocalIterator():\n",
        "            result.append((self.classify(row[0]), row[1]))\n",
        "        return spark.createDataFrame(result, [\"predict\", \"label\"])\n",
        "\n",
        "    def classify(self, row):\n",
        "        euclidean = self.train.rdd.map(lambda x : (distance.euclidean(x[0], row), x[1])).toDF([\"euclidean\", \"label\"])\n",
        "\n",
        "        result = euclidean.sort(\"euclidean\").limit(self.k).\\\n",
        "                    groupBy(\"label\").count().orderBy(col(\"count\").desc()).collect()[0][0]\n",
        "        del euclidean\n",
        "\n",
        "        return result"
      ]
    },
    {
      "cell_type": "markdown",
      "metadata": {
        "id": "e5Vcw1o3m7-M"
      },
      "source": [
        "Split train/test data"
      ]
    },
    {
      "cell_type": "code",
      "execution_count": null,
      "metadata": {
        "id": "wulpwYZgcbLR"
      },
      "outputs": [],
      "source": [
        "# train test split\n",
        "col_names = dataset.columns\n",
        "\n",
        "train, test = dataset.randomSplit(weights=[0.8,0.2], seed=41)\n",
        "\n",
        "train = train.rdd.map(lambda x : ([x[0],x[1],x[2],x[3],x[4],x[5],x[6],x[7],x[8]], x[9])).toDF([\"features\", \"label\"])\n",
        "test = test.rdd.map(lambda x : ([x[0],x[1],x[2],x[3],x[4],x[5],x[6],x[7],x[8]], x[9])).toDF([\"features\", \"label\"])"
      ]
    },
    {
      "cell_type": "code",
      "execution_count": 31,
      "metadata": {
        "colab": {
          "base_uri": "https://localhost:8080/"
        },
        "id": "x9-6EGJwLZRR",
        "outputId": "4d125bbc-70f1-4e80-95b2-ba2be2b3e1a1"
      },
      "outputs": [
        {
          "output_type": "execute_result",
          "data": {
            "text/plain": [
              "0.5969230769230769"
            ]
          },
          "metadata": {},
          "execution_count": 31
        }
      ],
      "source": [
        "KNN = K_Nearest_Neighbors_Classifier(3)\n",
        "KNN.fit(train)\n",
        "KNN_predicted = KNN.predict(test)\n",
        "KNN_predicted.filter(\"predict = label\").count()/KNN_predicted.count()\n",
        "# Y_predicted.show()"
      ]
    },
    {
      "cell_type": "markdown",
      "metadata": {
        "id": "SwapNo90nU8B"
      },
      "source": [
        "# Model evaluation"
      ]
    },
    {
      "cell_type": "markdown",
      "metadata": {
        "id": "FWCmP7GZo4Ea"
      },
      "source": [
        "Confusion matrix"
      ]
    },
    {
      "cell_type": "code",
      "execution_count": 32,
      "metadata": {
        "id": "tr1daGZ7VW-h"
      },
      "outputs": [],
      "source": [
        "import matplotlib.pyplot as plt"
      ]
    },
    {
      "cell_type": "code",
      "execution_count": 33,
      "metadata": {
        "colab": {
          "base_uri": "https://localhost:8080/",
          "height": 498
        },
        "id": "3gNHd5AwYldx",
        "outputId": "4137bc3f-aa7f-4615-feb6-59a2adb931b4"
      },
      "outputs": [
        {
          "output_type": "display_data",
          "data": {
            "image/png": "[encoded data removed]",
            "text/plain": [
              "<Figure size 540x540 with 2 Axes>"
            ]
          },
          "metadata": {
            "needs_background": "light"
          }
        },
        {
          "output_type": "stream",
          "name": "stdout",
          "text": [
            "Precision: 0.4883720930232558\n",
            "Recall: 0.17355371900826447\n",
            "F1: 0.25609756097560976\n"
          ]
        }
      ],
      "source": [
        "DT_tp = DT_predicted.filter(\"label = 1 AND predict = 1\").count()\n",
        "DT_fp = DT_predicted.filter(\"label = 0 AND predict = 1\").count()\n",
        "DT_fn = DT_predicted.filter(\"label = 1 AND predict = 0\").count()\n",
        "DT_tn = DT_predicted.filter(\"label = 0 AND predict = 0\").count()\n",
        "\n",
        "conf_matrix = np.array([[DT_tp,DT_fp],[DT_fn,DT_tn]])\n",
        "\n",
        "fig, ax = plt.subplots(figsize=(7.5, 7.5))\n",
        "sc = ax.matshow(conf_matrix, cmap=plt.cm.Blues)\n",
        "for i in range(conf_matrix.shape[0]):\n",
        "    for j in range(conf_matrix.shape[1]):\n",
        "        ax.text(x=j, y=i,s=conf_matrix[i, j], va='center', ha='center', size='xx-large')\n",
        " \n",
        "ax.set_xlabel('True', fontsize=20)\n",
        "ax.set_ylabel('Predict', fontsize=20)\n",
        "ax.set_xticklabels([\"\", \"1\", \"0\"], fontsize=\"20\")\n",
        "ax.set_yticklabels([\"\", \"1\", \"0\"], fontsize=\"20\")\n",
        "ax.xaxis.set_label_position('top')\n",
        "cbar = fig.colorbar(sc)\n",
        "plt.show()\n",
        "\n",
        "precision = DT_tp/(DT_tp+DT_fp)\n",
        "print(\"Precision:\", precision)\n",
        "recall = DT_tp/(DT_tp+DT_fn)\n",
        "print(\"Recall:\", recall)\n",
        "f1 = 2*precision*recall/(precision+recall)\n",
        "print(\"F1:\", f1)"
      ]
    },
    {
      "cell_type": "code",
      "execution_count": 34,
      "metadata": {
        "colab": {
          "base_uri": "https://localhost:8080/",
          "height": 498
        },
        "id": "ichJ9XKdOPwS",
        "outputId": "69761e5e-fc06-43c6-f270-d85fca6e6a78"
      },
      "outputs": [
        {
          "output_type": "display_data",
          "data": {
            "image/png": "[encoded data removed]",
            "text/plain": [
              "<Figure size 540x540 with 2 Axes>"
            ]
          },
          "metadata": {
            "needs_background": "light"
          }
        },
        {
          "output_type": "stream",
          "name": "stdout",
          "text": [
            "Precision: 0.45098039215686275\n",
            "Recall: 0.38016528925619836\n",
            "F1: 0.4125560538116592\n"
          ]
        }
      ],
      "source": [
        "KNN_tp = KNN_predicted.filter(\"label = 1 AND predict = 1\").count()\n",
        "KNN_fp = KNN_predicted.filter(\"label = 0 AND predict = 1\").count()\n",
        "KNN_fn = KNN_predicted.filter(\"label = 1 AND predict = 0\").count()\n",
        "KNN_tn = KNN_predicted.filter(\"label = 0 AND predict = 0\").count()\n",
        "\n",
        "conf_matrix = np.array([[KNN_tp,KNN_fp],[KNN_fn,KNN_tn]])\n",
        "\n",
        "fig, ax = plt.subplots(figsize=(7.5, 7.5))\n",
        "sc = ax.matshow(conf_matrix, cmap=plt.cm.Blues)\n",
        "for i in range(conf_matrix.shape[0]):\n",
        "    for j in range(conf_matrix.shape[1]):\n",
        "        ax.text(x=j, y=i,s=conf_matrix[i, j], va='center', ha='center', size='xx-large')\n",
        " \n",
        "ax.set_xlabel('True', fontsize=20)\n",
        "ax.set_ylabel('Predict', fontsize=20)\n",
        "ax.set_xticklabels([\"\", \"1\", \"0\"], fontsize=\"20\")\n",
        "ax.set_yticklabels([\"\", \"1\", \"0\"], fontsize=\"20\")\n",
        "ax.xaxis.set_label_position('top')\n",
        "cbar = fig.colorbar(sc)\n",
        "plt.show()\n",
        "\n",
        "precision = KNN_tp/(KNN_tp+KNN_fp)\n",
        "print(\"Precision:\", precision)\n",
        "recall = KNN_tp/(KNN_tp+KNN_fn)\n",
        "print(\"Recall:\", recall)\n",
        "f1 = 2*precision*recall/(precision+recall)\n",
        "print(\"F1:\", f1)"
      ]
    }
  ],
  "metadata": {
    "colab": {
      "collapsed_sections": [
        "Ksc7JTaoUJl8",
        "09OoKQjftrIo",
        "cljQIe72teFi"
      ],
      "name": "water_quality_prediction.ipynb",
      "provenance": []
    },
    "kernelspec": {
      "display_name": "Python 3",
      "name": "python3"
    },
    "language_info": {
      "name": "python"
    }
  },
  "nbformat": 4,
  "nbformat_minor": 0
}